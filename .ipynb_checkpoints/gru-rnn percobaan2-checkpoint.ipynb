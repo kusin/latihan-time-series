{
 "cells": [
  {
   "cell_type": "markdown",
   "id": "43e7339b-56e4-493d-bb31-a6831fd177af",
   "metadata": {},
   "source": [
    "## GRU-RNN Time Series Prediction Bitcoin"
   ]
  },
  {
   "cell_type": "markdown",
   "id": "61b8f448-70ba-47de-b065-01a39fddaa3e",
   "metadata": {},
   "source": [
    "### 1. Deklarasi Pustaka"
   ]
  },
  {
   "cell_type": "code",
   "execution_count": null,
   "id": "83bf4f0c-803c-462e-ad8c-b1772d13bbab",
   "metadata": {
    "tags": []
   },
   "outputs": [],
   "source": [
    "# pustaka untuk manipulasi data-frame\n",
    "import pandas as pd\n",
    "from pandas import concat\n",
    "from pandas import read_csv\n",
    "from pandas import read_excel\n",
    "from pandas_datareader import DataReader\n",
    "\n",
    "# pustaka untuk madnipulasi data-array\n",
    "import numpy as np\n",
    "from numpy import concatenate\n",
    "from numpy import array\n",
    "\n",
    "# pustaka untuk waktu komputasi\n",
    "import time\n",
    "from datetime import datetime\n",
    "\n",
    "# pustaka untuk visualisasi data\n",
    "import seaborn as sns\n",
    "from matplotlib import pyplot\n",
    "from matplotlib import pyplot as plt\n",
    "\n",
    "# pustaka untuk visualisasi acf dan pacf\n",
    "import scipy.stats as sc\n",
    "import statsmodels.api as sm\n",
    "from statsmodels.graphics.tsaplots import plot_pacf\n",
    "from statsmodels.graphics.tsaplots import plot_acf\n",
    "        \n",
    "# pustaka untuk membuat data latih dan data uji.\n",
    "from sklearn.preprocessing import MinMaxScaler\n",
    "from sklearn.preprocessing import LabelEncoder\n",
    "\n",
    "# pustaka untuk membuat model prediksi LSTM-RNN\n",
    "import itertools\n",
    "import tensorflow as tf\n",
    "from keras.utils import Sequence\n",
    "from keras.models import Sequential\n",
    "from keras.layers import SimpleRNN\n",
    "from keras.layers import LSTM\n",
    "from keras.layers import GRU\n",
    "from keras.layers import Dense\n",
    "from keras.layers import Dropout\n",
    "from keras.layers import TimeDistributed\n",
    "from keras.layers import Bidirectional\n",
    "from keras.optimizers import Adam, Adamax, RMSprop, SGD\n",
    "\n",
    "# early stoping\n",
    "from keras.callbacks import EarlyStopping\n",
    "from keras.callbacks import ModelCheckpoint\n",
    "\n",
    "# pustaka untuk  evaluasi model prediksi\n",
    "import math\n",
    "from math import sqrt\n",
    "from sklearn.metrics import mean_squared_error\n",
    "from sklearn.metrics import mean_absolute_error"
   ]
  },
  {
   "cell_type": "markdown",
   "id": "c0f2667b-1f63-4588-97e5-29b3feee951b",
   "metadata": {},
   "source": [
    "### 2. Akuisisi Data"
   ]
  },
  {
   "cell_type": "code",
   "execution_count": null,
   "id": "ea8c17f9-257c-45b2-b9b7-be666d84b5a3",
   "metadata": {},
   "outputs": [],
   "source": [
    "# Set waktu komputasi\n",
    "start = time.time()"
   ]
  },
  {
   "cell_type": "code",
   "execution_count": null,
   "id": "f26ce5dd-62e0-40d2-a217-74bbe14b2f98",
   "metadata": {},
   "outputs": [],
   "source": [
    "# fix random seed for reproducibility\n",
    "# tf.random.set_seed(7)\n",
    "# tf.keras.utils.set_random_seed(7)"
   ]
  },
  {
   "cell_type": "code",
   "execution_count": null,
   "id": "ba6972a2-7799-4ddb-8859-59ba2a1bf7c8",
   "metadata": {},
   "outputs": [],
   "source": [
    "tf.random.set_seed(42)"
   ]
  },
  {
   "cell_type": "code",
   "execution_count": null,
   "id": "dcc01ce8-947f-4500-96af-a5df801a2f00",
   "metadata": {},
   "outputs": [],
   "source": [
    "# membaca dataset via csv file\n",
    "dataset = read_csv(\"D:/latihan-time-series/dataset/BTC-USD.csv\", parse_dates=['Date']);\n",
    "\n",
    "# # membaca dataset via API yahoo-finance\n",
    "# dataset = DataReader('BTC-USD', data_source='yahoo', start='2015-01-01', end=datetime.today());"
   ]
  },
  {
   "cell_type": "code",
   "execution_count": null,
   "id": "5e1e7089-a08a-41ca-93b0-682a44e6cf18",
   "metadata": {},
   "outputs": [],
   "source": [
    "# set index tanggal\n",
    "dataset = dataset.set_index(\"Date\");"
   ]
  },
  {
   "cell_type": "code",
   "execution_count": null,
   "id": "84349a89-29fd-423d-a61f-576eedcb5a81",
   "metadata": {},
   "outputs": [],
   "source": [
    "# menampilkan metadata dataset\n",
    "dataset.info();"
   ]
  },
  {
   "cell_type": "code",
   "execution_count": null,
   "id": "055d79ac-d2b5-434b-80b6-5f249aab9209",
   "metadata": {},
   "outputs": [],
   "source": [
    "dataset"
   ]
  },
  {
   "cell_type": "markdown",
   "id": "30b6d2c3-77c7-4763-b1b2-6ea15c6b7247",
   "metadata": {},
   "source": [
    "### 3. Eksplorasi Datsa Analisis"
   ]
  },
  {
   "cell_type": "code",
   "execution_count": null,
   "id": "fbfe782c-fd8d-47e3-bda9-6cd68dde525f",
   "metadata": {},
   "outputs": [],
   "source": [
    "# membuat frame\n",
    "fig, ((ax1, ax2), (ax3, ax4)) = plt.subplots(nrows=2, ncols=2, facecolor=\"#f0f0f0\", figsize=(20, 10))\n",
    "\n",
    "# membuat time series plot\n",
    "ax1.plot(dataset.index.values, dataset[\"Open\"], color=\"tab:blue\", label=\"Open Price\", linewidth=2)\n",
    "\n",
    "# membuat label-label\n",
    "ax1.set_title(\"Open Price Bitcoin\", fontsize=14)\n",
    "ax1.set_xlabel(\"Date\", fontsize=12)\n",
    "ax1.set_ylabel(\"Stock Price\", fontsize=12)\n",
    "ax1.legend(loc='upper left')\n",
    "ax1.grid(True)\n",
    "# ----------------------------------------------------------------------------------------------------\n",
    "\n",
    "# membuat time series plot\n",
    "ax2.plot(dataset.index.values, dataset[\"Close\"], color=\"tab:green\", label=\"Close Price\", linewidth=2)\n",
    "\n",
    "# membuat label-label\n",
    "ax2.set_title(\"Close Price Bitcoin\", fontsize=14)\n",
    "ax2.set_xlabel(\"Date\", fontsize=12)\n",
    "ax2.set_ylabel(\"Stock Price\", fontsize=12)\n",
    "ax2.legend(loc='upper left')\n",
    "ax2.grid(True)\n",
    "# ----------------------------------------------------------------------------------------------------\n",
    "\n",
    "# membuat time series plot\n",
    "ax3.plot(dataset.index.values, dataset[\"High\"], color=\"tab:orange\", label=\"High Price\", linewidth=2)\n",
    "\n",
    "# membuat label-label\n",
    "ax3.set_title(\"High Price Bitcoin\", fontsize=14)\n",
    "ax3.set_xlabel(\"Date\", fontsize=12)\n",
    "ax3.set_ylabel(\"Stock Price\", fontsize=12)\n",
    "ax3.legend(loc='upper left')\n",
    "ax3.grid(True)\n",
    "# ----------------------------------------------------------------------------------------------------\n",
    "\n",
    "# membuat time series plot\n",
    "ax4.plot(dataset.index.values, dataset[\"Low\"], color=\"tab:red\", label=\"Low Price\", linewidth=2)\n",
    "\n",
    "# membuat label-label\n",
    "ax4.set_title(\"Low Price Bitcoin\", fontsize=14)\n",
    "ax4.set_xlabel(\"Date\", fontsize=12)\n",
    "ax4.set_ylabel(\"Stock Price\", fontsize=12)\n",
    "ax4.legend(loc='upper left')\n",
    "ax4.grid(True)\n",
    "# ----------------------------------------------------------------------------------------------------\n",
    "\n",
    "# set the spacing between subplots\n",
    "plt.subplots_adjust(wspace=0.15, hspace=0.25)\n",
    "\n",
    "# menampilkan plot\n",
    "plt.show()"
   ]
  },
  {
   "cell_type": "code",
   "execution_count": null,
   "id": "0f846946-ca7d-48fc-825e-97166a13ac90",
   "metadata": {},
   "outputs": [],
   "source": [
    "# membuat frame\n",
    "fig, ((ax1, ax2), (ax3, ax4)) = plt.subplots(nrows=2, ncols=2, facecolor=\"#f0f0f0\", figsize=(20, 10))\n",
    "\n",
    "# membuat time series plot\n",
    "ax1.plot(dataset.index.values, dataset[\"Open\"], color=\"tab:blue\", label=\"Open Price\", linewidth=2)\n",
    "\n",
    "# membuat label-label\n",
    "ax1.set_title(\"Open Price Bitcoin\", fontsize=14)\n",
    "ax1.set_xlabel(\"Date\", fontsize=12)\n",
    "ax1.set_ylabel(\"Stock Price\", fontsize=12)\n",
    "ax1.legend(loc='upper left')\n",
    "ax1.grid(True)\n",
    "\n",
    "# membuat weighted price\n",
    "ax1.axvspan('2021-10-01','2021-11-30',color='red', alpha=0.2)\n",
    "ax1.axhspan(65000,68000, color='green',alpha=0.2)\n",
    "# ----------------------------------------------------------------------------------------------------\n",
    "\n",
    "# membuat time series plot\n",
    "ax2.plot(dataset.index.values, dataset[\"Close\"], color=\"tab:green\", label=\"Close Price\", linewidth=2)\n",
    "\n",
    "# membuat label-label\n",
    "ax2.set_title(\"Close Price Bitcoin\", fontsize=14)\n",
    "ax2.set_xlabel(\"Date\", fontsize=12)\n",
    "ax2.set_ylabel(\"Stock Price\", fontsize=12)\n",
    "ax2.legend(loc='upper left')\n",
    "ax2.grid(True)\n",
    "\n",
    "# membuat weighted price\n",
    "ax2.axvspan('2021-10-01','2021-11-30',color='red', alpha=0.2)\n",
    "ax2.axhspan(65000,68000, color='green',alpha=0.2)\n",
    "# ----------------------------------------------------------------------------------------------------\n",
    "\n",
    "# membuat time series plot\n",
    "ax3.plot(dataset.index.values, dataset[\"High\"], color=\"tab:orange\", label=\"High Price\", linewidth=2)\n",
    "\n",
    "# membuat label-label\n",
    "ax3.set_title(\"High Price Bitcoin\", fontsize=14)\n",
    "ax3.set_xlabel(\"Date\", fontsize=12)\n",
    "ax3.set_ylabel(\"Stock Price\", fontsize=12)\n",
    "ax3.legend(loc='upper left')\n",
    "ax3.grid(True)\n",
    "\n",
    "# membuat weighted price\n",
    "ax3.axvspan('2021-10-01','2021-11-30',color='red', alpha=0.2)\n",
    "ax3.axhspan(65000,68000, color='green',alpha=0.2)\n",
    "# ----------------------------------------------------------------------------------------------------\n",
    "\n",
    "# membuat time series plot\n",
    "ax4.plot(dataset.index.values, dataset[\"Low\"], color=\"tab:red\", label=\"Low Price\", linewidth=2)\n",
    "\n",
    "# membuat label-label\n",
    "ax4.set_title(\"Low Price Bitcoin\", fontsize=14)\n",
    "ax4.set_xlabel(\"Date\", fontsize=12)\n",
    "ax4.set_ylabel(\"Stock Price\", fontsize=12)\n",
    "ax4.legend(loc='upper left')\n",
    "ax4.grid(True)\n",
    "\n",
    "# membuat weighted price\n",
    "ax4.axvspan('2021-10-01','2021-11-30',color='red', alpha=0.2)\n",
    "ax4.axhspan(65000,68000, color='green',alpha=0.2)\n",
    "# ----------------------------------------------------------------------------------------------------\n",
    "\n",
    "# set the spacing between subplots\n",
    "plt.subplots_adjust(wspace=0.15, hspace=0.25)\n",
    "\n",
    "# menampilkan plot\n",
    "plt.show()"
   ]
  },
  {
   "cell_type": "markdown",
   "id": "9e9a1ea0-a544-46c3-b212-41ea5b62ef00",
   "metadata": {},
   "source": [
    "### 4. Praproses Dataset"
   ]
  },
  {
   "cell_type": "markdown",
   "id": "3ee3e8c5-16fe-4324-a0cd-0f28475cb23b",
   "metadata": {},
   "source": [
    "- Seleksi Fitur"
   ]
  },
  {
   "cell_type": "code",
   "execution_count": null,
   "id": "991474f8-99f8-4000-8b05-1b6f04c8bc8d",
   "metadata": {},
   "outputs": [],
   "source": [
    "# memilih fitur close price\n",
    "dataset = dataset.filter(['Close']);"
   ]
  },
  {
   "cell_type": "code",
   "execution_count": null,
   "id": "17ac1796-b7f7-40da-9dab-a6cdc00a8a44",
   "metadata": {},
   "outputs": [],
   "source": [
    "# convert dataframe to series close price\n",
    "data = dataset.values"
   ]
  },
  {
   "cell_type": "code",
   "execution_count": null,
   "id": "c6241934-dee2-4aa2-9f59-27a5f6c29f77",
   "metadata": {},
   "outputs": [],
   "source": [
    "np.round(data[:5],7)"
   ]
  },
  {
   "cell_type": "markdown",
   "id": "4c2f0857-f420-48fb-99f0-3fed28a1cd25",
   "metadata": {},
   "source": [
    "- Normalisasi Data"
   ]
  },
  {
   "cell_type": "code",
   "execution_count": null,
   "id": "247efc60-034d-4a27-aaeb-5785b2499fb6",
   "metadata": {},
   "outputs": [],
   "source": [
    "# normalize features\n",
    "scaler = MinMaxScaler(feature_range=(0, 1))\n",
    "scaled_data = scaler.fit_transform(np.array(data).reshape(-1,1))"
   ]
  },
  {
   "cell_type": "code",
   "execution_count": null,
   "id": "ca0787a7-2bfd-4f0a-9a07-aa7f0e2a493a",
   "metadata": {},
   "outputs": [],
   "source": [
    "np.round(scaled_data[:5],7)"
   ]
  },
  {
   "cell_type": "code",
   "execution_count": null,
   "id": "25c5b41d-18f6-4a4c-81b9-5f67522afabb",
   "metadata": {},
   "outputs": [],
   "source": [
    "scaled_data.shape"
   ]
  },
  {
   "cell_type": "code",
   "execution_count": null,
   "id": "c1e47a64-4b83-4800-ae03-1c44620581e5",
   "metadata": {},
   "outputs": [],
   "source": [
    "# membuat frame\n",
    "fig, ax = plt.subplots(facecolor=\"#f0f0f0\", figsize=(8,4))\n",
    "\n",
    "# membuat time series plot\n",
    "ax.plot(dataset.index.values, scaled_data, color=\"tab:green\", label=\"CLose Price\", linewidth=2)\n",
    "\n",
    "# membuat label-label\n",
    "ax.set_title(\"Close Price Bitcoin\", fontsize=10)\n",
    "ax.set_xlabel(\"Date\", fontsize=9)\n",
    "ax.set_ylabel(\"Stock Price\", fontsize=9)\n",
    "ax.legend(loc='upper left')\n",
    "ax.grid(True)\n",
    "\n",
    "# menampilkan plot\n",
    "plt.show()"
   ]
  },
  {
   "cell_type": "markdown",
   "id": "f9cca01b-bc04-4720-b4f2-ae97ec192c6e",
   "metadata": {},
   "source": [
    "- Data latih dan Data uji"
   ]
  },
  {
   "cell_type": "code",
   "execution_count": null,
   "id": "2143bd6e-39b8-406b-b030-5dab675359a5",
   "metadata": {},
   "outputs": [],
   "source": [
    "# set data train\n",
    "train_size = math.ceil(len(dataset)*0.8)\n",
    "train_data = scaled_data[0:train_size , :]"
   ]
  },
  {
   "cell_type": "code",
   "execution_count": null,
   "id": "b406ee5f-c0e7-4676-84ae-b90e84ce1b03",
   "metadata": {},
   "outputs": [],
   "source": [
    "np.round(train_data[:5],7)"
   ]
  },
  {
   "cell_type": "code",
   "execution_count": null,
   "id": "ff1669ae-bd5c-4483-be92-c770c393d75e",
   "metadata": {},
   "outputs": [],
   "source": [
    "train_data.shape"
   ]
  },
  {
   "cell_type": "code",
   "execution_count": null,
   "id": "d5faaff5-c1e2-4b79-b147-4497b825f1a7",
   "metadata": {},
   "outputs": [],
   "source": [
    "# set data test\n",
    "test_size = len(dataset) - train_size\n",
    "test_data = scaled_data[train_size:len(dataset) , :]"
   ]
  },
  {
   "cell_type": "code",
   "execution_count": null,
   "id": "9b316427-efb9-46ae-94b5-886a373d9dfe",
   "metadata": {},
   "outputs": [],
   "source": [
    "np.round(test_data[:5],7)"
   ]
  },
  {
   "cell_type": "code",
   "execution_count": null,
   "id": "1a24b384-7bd1-46f8-8d07-07bc78fbf1a3",
   "metadata": {},
   "outputs": [],
   "source": [
    "test_data.shape"
   ]
  },
  {
   "cell_type": "markdown",
   "id": "33b5213d-fb28-4c08-a2f7-86c41d32726c",
   "metadata": {},
   "source": [
    "- Supervised Learning"
   ]
  },
  {
   "cell_type": "code",
   "execution_count": null,
   "id": "3ed39102-5c57-45b8-99d1-a5903728521b",
   "metadata": {},
   "outputs": [],
   "source": [
    "# convert an array of values into a dataset matrix\n",
    "\n",
    "# function for supervised learning\n",
    "def create_dataset(look_back, dataset):\n",
    "    \n",
    "    # declare variable X and Y\n",
    "    dataX = []\n",
    "    dataY = []\n",
    "    \n",
    "    # for loop for create supervised learning\n",
    "    for i in range(look_back, len(dataset)):\n",
    "        \n",
    "        # insert value X and Y \n",
    "        dataX.append(dataset[i-look_back:i, 0])\n",
    "        dataY.append(dataset[i, 0])\n",
    "        \n",
    "    # return value X and Y\n",
    "    return np.array(dataX), np.array(dataY)"
   ]
  },
  {
   "cell_type": "code",
   "execution_count": null,
   "id": "e63af2e4-6900-44a6-bc1c-b8f1bcfc0b27",
   "metadata": {},
   "outputs": [],
   "source": [
    "# process supervised learning\n",
    "look_back = 60\n",
    "x_train, y_train = create_dataset(look_back, train_data)\n",
    "x_test, y_test = create_dataset(look_back, test_data)"
   ]
  },
  {
   "cell_type": "code",
   "execution_count": null,
   "id": "1ea94bd3-a30b-4dd5-8dc3-3b62387ac51d",
   "metadata": {},
   "outputs": [],
   "source": [
    "print(x_train.shape, y_train.shape)"
   ]
  },
  {
   "cell_type": "code",
   "execution_count": null,
   "id": "3b814fb0-c615-4a72-ae77-e5c8692717fc",
   "metadata": {},
   "outputs": [],
   "source": [
    "print(x_test.shape, y_test.shape)"
   ]
  },
  {
   "cell_type": "code",
   "execution_count": null,
   "id": "95009f3c-1541-42c0-b396-ee2dd6651bcb",
   "metadata": {},
   "outputs": [],
   "source": [
    "# reshape input to be [samples, time steps, features]\n",
    "x_train = np.reshape(x_train, (x_train.shape[0], x_train.shape[1], 1))\n",
    "x_test = np.reshape(x_test, (x_test.shape[0], x_test.shape[1], 1))"
   ]
  },
  {
   "cell_type": "code",
   "execution_count": null,
   "id": "526c5c15-1a1c-43e2-b3eb-0dcde553fe56",
   "metadata": {},
   "outputs": [],
   "source": [
    "print(x_train.shape, x_test.shape)"
   ]
  },
  {
   "cell_type": "markdown",
   "id": "41d83bd2-ad41-4243-a347-6d11ab95b048",
   "metadata": {},
   "source": [
    "### 5. Modeling GRU-RNN"
   ]
  },
  {
   "cell_type": "code",
   "execution_count": null,
   "id": "631bd6ab-9e75-4b83-96b3-40057addcb34",
   "metadata": {},
   "outputs": [],
   "source": [
    "# The GRU architecture\n",
    "model = Sequential()\n",
    "\n",
    "# First GRU layer with Dropout regularisation\n",
    "model.add(GRU(50, activation=\"relu\", return_sequences=True, input_shape=(x_train.shape[1], 1)))\n",
    "# model.add(Dropout(0.2))\n",
    "\n",
    "# Second GRU layer with Dropout regularisation\n",
    "model.add(GRU(50, activation=\"relu\", return_sequences=False))\n",
    "# model.add(Dropout(0.2))\n",
    "\n",
    "# Third GRU layer with Dropout regularisation\n",
    "# model.add(GRU(50, return_sequences=False))\n",
    "# model.add(Dropout(0.2))\n",
    "\n",
    "# # Fourty GRU layer with Dropout regularisation\n",
    "# model.add(GRU(50, return_sequences=False))\n",
    "# model.add(Dropout(0.2))\n",
    "\n",
    "# The output layer\n",
    "model.add(Dense(1))\n",
    "\n",
    "# Compile the model GRU\n",
    "model.compile(optimizer='adam', loss='mean_squared_error')"
   ]
  },
  {
   "cell_type": "code",
   "execution_count": null,
   "id": "d76d7cfa-1a51-44a4-b636-cb6a38cbcd19",
   "metadata": {},
   "outputs": [],
   "source": [
    "# fit network\n",
    "history = model.fit(x_train, y_train, epochs=50, batch_size=8, verbose=1, use_multiprocessing=True, shuffle=False)"
   ]
  },
  {
   "cell_type": "code",
   "execution_count": null,
   "id": "f0b1cd62-032e-4320-8259-2b9301db7018",
   "metadata": {},
   "outputs": [],
   "source": [
    "model.summary()"
   ]
  },
  {
   "cell_type": "code",
   "execution_count": null,
   "id": "fc1e0bfb-26d8-44ec-b3de-ba5c1e5910e1",
   "metadata": {},
   "outputs": [],
   "source": [
    "predictions = model.predict(x_test)"
   ]
  },
  {
   "cell_type": "code",
   "execution_count": null,
   "id": "e4656062-f513-46f6-9077-0304654fba59",
   "metadata": {},
   "outputs": [],
   "source": [
    "print(predictions[:7])"
   ]
  },
  {
   "cell_type": "code",
   "execution_count": null,
   "id": "33948f95-4526-4df1-8ef2-c02d23fe78a7",
   "metadata": {},
   "outputs": [],
   "source": [
    "# membuat frame\n",
    "fig, ax = plt.subplots(figsize = (8,4))\n",
    "\n",
    "# membuat time series plot\n",
    "ax.plot(history.history['loss'], color=\"tab:blue\", label=\"loss func\", linewidth=2)\n",
    "\n",
    "# membuat label-label\n",
    "ax.set_xlabel(\"epoch\", fontsize=10)\n",
    "ax.set_ylabel(\"loss function\", fontsize=10)\n",
    "ax.legend(loc='upper right')\n",
    "ax.grid(True)\n",
    "\n",
    "# menampilkan plot\n",
    "plt.show()"
   ]
  },
  {
   "cell_type": "markdown",
   "id": "e20bbaa5-7e93-41cc-bb86-f120a8fcb7f1",
   "metadata": {},
   "source": [
    "### 6. Evaluasi Model GRU-RNN"
   ]
  },
  {
   "cell_type": "code",
   "execution_count": null,
   "id": "0c40f91e-cca4-48c2-9f73-304372621103",
   "metadata": {},
   "outputs": [],
   "source": [
    "scores = model.evaluate(x_train, y_train)\n",
    "scores"
   ]
  },
  {
   "cell_type": "code",
   "execution_count": null,
   "id": "996db62e-5991-4867-a5f3-398013b4749a",
   "metadata": {},
   "outputs": [],
   "source": [
    "scores = model.evaluate(x_test, y_test)\n",
    "scores"
   ]
  },
  {
   "cell_type": "markdown",
   "id": "556064da-9e23-4f3a-9013-ae84fd7d6099",
   "metadata": {},
   "source": [
    "- MAE (Mean Absolute Error)"
   ]
  },
  {
   "cell_type": "code",
   "execution_count": null,
   "id": "74b61c18-1c86-4544-b5ec-8e6b8c5cef38",
   "metadata": {},
   "outputs": [],
   "source": [
    "mae = mean_absolute_error(y_test, predictions)\n",
    "print('Test MAE : %.4f' % mae)"
   ]
  },
  {
   "cell_type": "markdown",
   "id": "7a50cdff-4158-47a7-a61d-5423c6aa64c8",
   "metadata": {},
   "source": [
    "- MSE (Mean Squared Error)"
   ]
  },
  {
   "cell_type": "code",
   "execution_count": null,
   "id": "4024b668-56b9-40b8-8ca2-26c767ecce0b",
   "metadata": {},
   "outputs": [],
   "source": [
    "mse = mean_squared_error(y_test, predictions)\n",
    "print('Test MSE: %.4f' % mse)"
   ]
  },
  {
   "cell_type": "markdown",
   "id": "f3d0fd91-71a5-42ce-ae50-f206532f0e6d",
   "metadata": {},
   "source": [
    "- RMSE (Root Mean Squared Error)"
   ]
  },
  {
   "cell_type": "code",
   "execution_count": null,
   "id": "65108649-baae-438d-85c2-2e6dc7f59009",
   "metadata": {},
   "outputs": [],
   "source": [
    "rmse = sqrt(mse)\n",
    "print('Test RMSE: %.4f' % rmse)"
   ]
  },
  {
   "cell_type": "markdown",
   "id": "81d8c8ac-017d-44d4-b459-13bc5f8a18aa",
   "metadata": {},
   "source": [
    "- Corelation pearson"
   ]
  },
  {
   "cell_type": "code",
   "execution_count": null,
   "id": "5042ef57-ccf1-4a24-bce4-b71719198b05",
   "metadata": {},
   "outputs": [],
   "source": [
    "hasil = np.stack((y_test.reshape(-1), predictions.reshape(-1)), axis=1)\n",
    "hasil = pd.DataFrame(hasil, columns = ['data_aktual','prediksi'])\n",
    "hasil.head()"
   ]
  },
  {
   "cell_type": "code",
   "execution_count": null,
   "id": "9659d65c-334d-439e-aaa7-fea677c4e264",
   "metadata": {},
   "outputs": [],
   "source": [
    "r, p = sc.pearsonr(hasil[\"data_aktual\"], hasil[\"prediksi\"])\n",
    "print(\"korelasi data akual dengan hasil prediksi\" +\" {:.4f} \".format(r)+ \"dengan signifikansi\" +\" {:.4f} \".format(p))"
   ]
  },
  {
   "cell_type": "markdown",
   "id": "6308aa13-f7a9-4e5f-8c6e-40ce1a2825d9",
   "metadata": {},
   "source": [
    "- Complexity time"
   ]
  },
  {
   "cell_type": "code",
   "execution_count": null,
   "id": "64da9e65-b660-46b0-bad6-2791a56a8379",
   "metadata": {},
   "outputs": [],
   "source": [
    "# Set akhir waktu komputasi \n",
    "end = time.time()"
   ]
  },
  {
   "cell_type": "code",
   "execution_count": null,
   "id": "cd95d0e8-cbea-47a1-a741-c3d367463934",
   "metadata": {},
   "outputs": [],
   "source": [
    "# Proses menghitung waktu komputasi\n",
    "hours, rem = divmod(end-start, 3600)\n",
    "minutes, seconds = divmod(rem, 60)"
   ]
  },
  {
   "cell_type": "code",
   "execution_count": null,
   "id": "442197e9-56df-4c51-a6f8-a299aba33392",
   "metadata": {},
   "outputs": [],
   "source": [
    "# Hasil waktu komputasi\n",
    "print(\"{:0>2}:{:0>2}:{:05.2f}\".format(int(hours),int(minutes),seconds))"
   ]
  },
  {
   "cell_type": "markdown",
   "id": "959627f5-50fb-4bb5-b84f-f9ac6f4922f5",
   "metadata": {},
   "source": [
    "### 8. Visualisasi Data"
   ]
  },
  {
   "cell_type": "code",
   "execution_count": null,
   "id": "40c0423b-5df9-47ec-a1de-b8aaee21750b",
   "metadata": {},
   "outputs": [],
   "source": [
    "# membuat frame\n",
    "fig, ax = plt.subplots(figsize = (10,5))\n",
    "\n",
    "# membuat time series plot\n",
    "ax.plot(y_test, color=\"tab:blue\", label=\"data aktual\", linewidth=2.5)\n",
    "ax.plot(predictions, color=\"tab:red\", label=\"hasil prediksi\", linewidth=2.5)\n",
    "\n",
    "# membuat label-label\n",
    "# ax.set_title(\"Hotspot Sumsel Sensor MODIS 2018-2020\", fontsize=14)\n",
    "ax.set_xlabel(\"Tanggal\", fontsize=12)\n",
    "ax.set_ylabel(\"Jumlah Hostpot\", fontsize=12)\n",
    "ax.legend(loc='upper right')\n",
    "ax.grid(True)\n",
    "\n",
    "# menampilkan plot\n",
    "plt.show()"
   ]
  },
  {
   "cell_type": "markdown",
   "id": "afff984e-17d0-4b65-87f1-167c0865d54c",
   "metadata": {},
   "source": [
    "### 9. Inverse Value Max-Min"
   ]
  },
  {
   "cell_type": "markdown",
   "id": "ea2a4043-c127-448c-bf0c-b85be974c019",
   "metadata": {},
   "source": [
    "- predic model lstm"
   ]
  },
  {
   "cell_type": "code",
   "execution_count": null,
   "id": "675b7ae9-422b-4549-8641-ef7b4fa5f709",
   "metadata": {},
   "outputs": [],
   "source": [
    "train_predictions = model.predict(x_train)"
   ]
  },
  {
   "cell_type": "code",
   "execution_count": null,
   "id": "0cbb19d5-8d1b-4fdd-8535-e97de9fd7618",
   "metadata": {},
   "outputs": [],
   "source": [
    "test_predictions = model.predict(x_test)"
   ]
  },
  {
   "cell_type": "markdown",
   "id": "69d8191e-5781-4305-8deb-8437aead6993",
   "metadata": {},
   "source": [
    "- inverse to original dataset"
   ]
  },
  {
   "cell_type": "code",
   "execution_count": null,
   "id": "62840785-6939-46e8-b07d-b8f25347a40a",
   "metadata": {},
   "outputs": [],
   "source": [
    "y_train_inv = scaler.inverse_transform(y_train.reshape(-1, 1))"
   ]
  },
  {
   "cell_type": "code",
   "execution_count": null,
   "id": "7fc76e4d-74e3-4adf-ae78-218369eadbe9",
   "metadata": {},
   "outputs": [],
   "source": [
    "y_test_inv = scaler.inverse_transform(y_test.reshape(-1, 1))"
   ]
  },
  {
   "cell_type": "markdown",
   "id": "6f918e51-5fbb-4e07-9aef-d9053e370edd",
   "metadata": {},
   "source": [
    "- inverse result predic to original data"
   ]
  },
  {
   "cell_type": "code",
   "execution_count": null,
   "id": "85e44336-4300-4f16-924a-5d5a2e56bdf6",
   "metadata": {},
   "outputs": [],
   "source": [
    "train_predictions_inv = scaler.inverse_transform(train_predictions)"
   ]
  },
  {
   "cell_type": "code",
   "execution_count": null,
   "id": "c1102d15-4e7e-4366-a6f6-50b13901d342",
   "metadata": {},
   "outputs": [],
   "source": [
    "test_predictions_inv = scaler.inverse_transform(test_predictions)"
   ]
  },
  {
   "cell_type": "code",
   "execution_count": null,
   "id": "f9332cc7-3c53-42bb-aed2-466bdfb757db",
   "metadata": {},
   "outputs": [],
   "source": [
    "# generate urutan data sesuai panjang datanya\n",
    "\n",
    "# membuat frame\n",
    "fig, ax = plt.subplots(figsize = (8,4))\n",
    "\n",
    "# membuat time series plot\n",
    "ax.plot(dataset.index.values, dataset[\"Close\"], color=\"tab:blue\", label=\"data aktual\", linewidth=2)\n",
    "\n",
    "# membuat label-label\n",
    "# ax.set_title(\"Hotspot Sumsel Sensor MODIS 2018-2020\", fontsize=14)\n",
    "ax.set_xlabel(\"Tanggal\")\n",
    "ax.set_ylabel(\"Jumlah Hostpot\")\n",
    "ax.legend(loc='best')\n",
    "ax.grid(True)\n",
    "\n",
    "# menampilkan plot\n",
    "plt.show()"
   ]
  },
  {
   "cell_type": "code",
   "execution_count": null,
   "id": "a752a3ae-1828-4728-b294-6be01cd269de",
   "metadata": {},
   "outputs": [],
   "source": []
  },
  {
   "cell_type": "code",
   "execution_count": null,
   "id": "7294aa75-b7cf-4f2b-9070-42db71aed2c6",
   "metadata": {},
   "outputs": [],
   "source": []
  }
 ],
 "metadata": {
  "kernelspec": {
   "display_name": "Python 3 (ipykernel)",
   "language": "python",
   "name": "python3"
  },
  "language_info": {
   "codemirror_mode": {
    "name": "ipython",
    "version": 3
   },
   "file_extension": ".py",
   "mimetype": "text/x-python",
   "name": "python",
   "nbconvert_exporter": "python",
   "pygments_lexer": "ipython3",
   "version": "3.9.13"
  },
  "vscode": {
   "interpreter": {
    "hash": "37197ad202cea1caf8a636a74cec7c83b945e4f29ac1505900600f740c02611d"
   }
  }
 },
 "nbformat": 4,
 "nbformat_minor": 5
}
