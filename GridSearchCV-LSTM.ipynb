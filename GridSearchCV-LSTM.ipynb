{
 "cells": [
  {
   "cell_type": "markdown",
   "id": "f4c9733a-f720-42f4-8dfa-9f6cffaffd40",
   "metadata": {},
   "source": [
    "## Hyperparameter GridSearchCV LSTM-RNN Time Series Prediction Bitcoin"
   ]
  },
  {
   "cell_type": "markdown",
   "id": "667d5f9d-ec68-43cc-8d4f-662a290d379d",
   "metadata": {},
   "source": [
    "### 1. Deklarasi Pustaka"
   ]
  },
  {
   "cell_type": "code",
   "execution_count": null,
   "id": "06efcd1a-4bb0-4f06-923f-4f1486f9d5cb",
   "metadata": {},
   "outputs": [],
   "source": [
    "# pustaka untuk manipulasi data-frame\n",
    "import pandas as pd\n",
    "from pandas import concat\n",
    "from pandas import read_csv\n",
    "from pandas import read_excel\n",
    "from pandas_datareader import DataReader\n",
    "\n",
    "# pustaka untuk madnipulasi data-array\n",
    "import numpy as np\n",
    "from numpy import concatenate\n",
    "from numpy import array\n",
    "\n",
    "# pustaka untuk waktu komputasi\n",
    "import time\n",
    "from datetime import datetime\n",
    "\n",
    "# pustaka untuk visualisasi data\n",
    "import seaborn as sns\n",
    "from matplotlib import pyplot\n",
    "from matplotlib import pyplot as plt\n",
    "\n",
    "# pustaka untuk visualisasi acf dan pacf\n",
    "import scipy.stats as sc\n",
    "import statsmodels.api as sm\n",
    "from statsmodels.graphics.tsaplots import plot_pacf\n",
    "from statsmodels.graphics.tsaplots import plot_acf\n",
    "        \n",
    "# pustaka untuk membuat data latih dan data uji.\n",
    "from sklearn.preprocessing import MinMaxScaler\n",
    "from sklearn.preprocessing import LabelEncoder\n",
    "\n",
    "# pustaka untuk membuat model prediksi LSTM-RNN\n",
    "import itertools\n",
    "import tensorflow as tf\n",
    "from keras.utils import Sequence\n",
    "from keras.models import Sequential\n",
    "from keras.layers import SimpleRNN\n",
    "from keras.layers import LSTM\n",
    "from keras.layers import GRU\n",
    "from keras.layers import Dense\n",
    "from keras.layers import Dropout\n",
    "from keras.layers import TimeDistributed\n",
    "from keras.layers import Bidirectional\n",
    "from keras.optimizers import Adam, Adamax, RMSprop, SGD\n",
    "\n",
    "# early stoping\n",
    "from keras.callbacks import EarlyStopping\n",
    "from keras.callbacks import ModelCheckpoint\n",
    "\n",
    "# pustaka untuk  evaluasi model prediksi\n",
    "import math\n",
    "from math import sqrt\n",
    "from sklearn.metrics import mean_squared_error\n",
    "from sklearn.metrics import mean_absolute_error"
   ]
  },
  {
   "cell_type": "markdown",
   "id": "9eaad41f-b15f-4e2f-a3f2-67decee521a9",
   "metadata": {},
   "source": [
    "### 2. Akuisisi Data"
   ]
  },
  {
   "cell_type": "code",
   "execution_count": null,
   "id": "32d9b7d1-7c3d-4395-8a3d-b602e424ec89",
   "metadata": {},
   "outputs": [],
   "source": [
    "# Set waktu komputasi\n",
    "start = time.time()"
   ]
  },
  {
   "cell_type": "code",
   "execution_count": null,
   "id": "046f4474-b094-4d7d-80f8-d7b2cc51024c",
   "metadata": {},
   "outputs": [],
   "source": [
    "# fix random seed for reproducibility\n",
    "np.random.seed(1234)"
   ]
  },
  {
   "cell_type": "code",
   "execution_count": null,
   "id": "4e7169ca-02f4-4c8e-9005-045c168fc2fc",
   "metadata": {},
   "outputs": [],
   "source": [
    "# membaca dataset via csv file\n",
    "dataset = read_csv(\"D:/latihan-time-series/dataset/BTC-USD.csv\", parse_dates=['Date']);\n",
    "\n",
    "# # membaca dataset via API yahoo-finance\n",
    "# dataset = DataReader('BTC-USD', data_source='yahoo', start='2015-01-01', end=datetime.today());"
   ]
  },
  {
   "cell_type": "code",
   "execution_count": null,
   "id": "5973426d-da9f-44d0-97ee-422d99bd86ed",
   "metadata": {},
   "outputs": [],
   "source": [
    "# set index tanggal\n",
    "dataset = dataset.set_index(\"Date\");"
   ]
  },
  {
   "cell_type": "code",
   "execution_count": null,
   "id": "a5aa6e39-8245-4555-b744-bc917d83a14f",
   "metadata": {},
   "outputs": [],
   "source": [
    "# menampilkan metadata dataset\n",
    "dataset.info();"
   ]
  },
  {
   "cell_type": "code",
   "execution_count": null,
   "id": "161f31ab-4146-4654-ac17-d9e9fdb4789a",
   "metadata": {},
   "outputs": [],
   "source": [
    "dataset"
   ]
  },
  {
   "cell_type": "markdown",
   "id": "1e0542f0-1090-4e98-a661-fcf729fc90c5",
   "metadata": {},
   "source": [
    "### 3. Eksplorasi Datsa Analisis"
   ]
  },
  {
   "cell_type": "code",
   "execution_count": null,
   "id": "656a21b0-f353-47d2-ba1b-074462903699",
   "metadata": {},
   "outputs": [],
   "source": [
    "# membuat frame\n",
    "fig, ((ax1, ax2), (ax3, ax4)) = plt.subplots(nrows=2, ncols=2, facecolor=\"#f0f0f0\", figsize=(20, 10))\n",
    "\n",
    "# membuat time series plot\n",
    "ax1.plot(dataset.index.values, dataset[\"Open\"], color=\"tab:blue\", label=\"Open Price\", linewidth=2)\n",
    "\n",
    "# membuat label-label\n",
    "ax1.set_title(\"Open Price Bitcoin\", fontsize=14)\n",
    "ax1.set_xlabel(\"Date\", fontsize=12)\n",
    "ax1.set_ylabel(\"Stock Price\", fontsize=12)\n",
    "ax1.legend(loc='upper left')\n",
    "ax1.grid(True)\n",
    "# ----------------------------------------------------------------------------------------------------\n",
    "\n",
    "# membuat time series plot\n",
    "ax2.plot(dataset.index.values, dataset[\"Close\"], color=\"tab:green\", label=\"Close Price\", linewidth=2)\n",
    "\n",
    "# membuat label-label\n",
    "ax2.set_title(\"Close Price Bitcoin\", fontsize=14)\n",
    "ax2.set_xlabel(\"Date\", fontsize=12)\n",
    "ax2.set_ylabel(\"Stock Price\", fontsize=12)\n",
    "ax2.legend(loc='upper left')\n",
    "ax2.grid(True)\n",
    "# ----------------------------------------------------------------------------------------------------\n",
    "\n",
    "# membuat time series plot\n",
    "ax3.plot(dataset.index.values, dataset[\"High\"], color=\"tab:orange\", label=\"High Price\", linewidth=2)\n",
    "\n",
    "# membuat label-label\n",
    "ax3.set_title(\"High Price Bitcoin\", fontsize=14)\n",
    "ax3.set_xlabel(\"Date\", fontsize=12)\n",
    "ax3.set_ylabel(\"Stock Price\", fontsize=12)\n",
    "ax3.legend(loc='upper left')\n",
    "ax3.grid(True)\n",
    "# ----------------------------------------------------------------------------------------------------\n",
    "\n",
    "# membuat time series plot\n",
    "ax4.plot(dataset.index.values, dataset[\"Low\"], color=\"tab:red\", label=\"Low Price\", linewidth=2)\n",
    "\n",
    "# membuat label-label\n",
    "ax4.set_title(\"Low Price Bitcoin\", fontsize=14)\n",
    "ax4.set_xlabel(\"Date\", fontsize=12)\n",
    "ax4.set_ylabel(\"Stock Price\", fontsize=12)\n",
    "ax4.legend(loc='upper left')\n",
    "ax4.grid(True)\n",
    "# ----------------------------------------------------------------------------------------------------\n",
    "\n",
    "# set the spacing between subplots\n",
    "plt.subplots_adjust(wspace=0.15, hspace=0.25)\n",
    "\n",
    "# menampilkan plot\n",
    "plt.show()"
   ]
  },
  {
   "cell_type": "code",
   "execution_count": null,
   "id": "7282d079-3596-4d5d-ba7a-d73cfc2efbc0",
   "metadata": {},
   "outputs": [],
   "source": [
    "# membuat frame\n",
    "fig, ((ax1, ax2), (ax3, ax4)) = plt.subplots(nrows=2, ncols=2, facecolor=\"#f0f0f0\", figsize=(20, 10))\n",
    "\n",
    "# membuat time series plot\n",
    "ax1.plot(dataset.index.values, dataset[\"Open\"], color=\"tab:blue\", label=\"Open Price\", linewidth=2)\n",
    "\n",
    "# membuat label-label\n",
    "ax1.set_title(\"Open Price Bitcoin\", fontsize=14)\n",
    "ax1.set_xlabel(\"Date\", fontsize=12)\n",
    "ax1.set_ylabel(\"Stock Price\", fontsize=12)\n",
    "ax1.legend(loc='upper left')\n",
    "ax1.grid(True)\n",
    "\n",
    "# membuat weighted price\n",
    "ax1.axvspan('2021-10-01','2021-11-30',color='red', alpha=0.2)\n",
    "ax1.axhspan(65000,68000, color='green',alpha=0.2)\n",
    "# ----------------------------------------------------------------------------------------------------\n",
    "\n",
    "# membuat time series plot\n",
    "ax2.plot(dataset.index.values, dataset[\"Close\"], color=\"tab:green\", label=\"Close Price\", linewidth=2)\n",
    "\n",
    "# membuat label-label\n",
    "ax2.set_title(\"Close Price Bitcoin\", fontsize=14)\n",
    "ax2.set_xlabel(\"Date\", fontsize=12)\n",
    "ax2.set_ylabel(\"Stock Price\", fontsize=12)\n",
    "ax2.legend(loc='upper left')\n",
    "ax2.grid(True)\n",
    "\n",
    "# membuat weighted price\n",
    "ax2.axvspan('2021-10-01','2021-11-30',color='red', alpha=0.2)\n",
    "ax2.axhspan(65000,68000, color='green',alpha=0.2)\n",
    "# ----------------------------------------------------------------------------------------------------\n",
    "\n",
    "# membuat time series plot\n",
    "ax3.plot(dataset.index.values, dataset[\"High\"], color=\"tab:orange\", label=\"High Price\", linewidth=2)\n",
    "\n",
    "# membuat label-label\n",
    "ax3.set_title(\"High Price Bitcoin\", fontsize=14)\n",
    "ax3.set_xlabel(\"Date\", fontsize=12)\n",
    "ax3.set_ylabel(\"Stock Price\", fontsize=12)\n",
    "ax3.legend(loc='upper left')\n",
    "ax3.grid(True)\n",
    "\n",
    "# membuat weighted price\n",
    "ax3.axvspan('2021-10-01','2021-11-30',color='red', alpha=0.2)\n",
    "ax3.axhspan(65000,68000, color='green',alpha=0.2)\n",
    "# ----------------------------------------------------------------------------------------------------\n",
    "\n",
    "# membuat time series plot\n",
    "ax4.plot(dataset.index.values, dataset[\"Low\"], color=\"tab:red\", label=\"Low Price\", linewidth=2)\n",
    "\n",
    "# membuat label-label\n",
    "ax4.set_title(\"Low Price Bitcoin\", fontsize=14)\n",
    "ax4.set_xlabel(\"Date\", fontsize=12)\n",
    "ax4.set_ylabel(\"Stock Price\", fontsize=12)\n",
    "ax4.legend(loc='upper left')\n",
    "ax4.grid(True)\n",
    "\n",
    "# membuat weighted price\n",
    "ax4.axvspan('2021-10-01','2021-11-30',color='red', alpha=0.2)\n",
    "ax4.axhspan(65000,68000, color='green',alpha=0.2)\n",
    "# ----------------------------------------------------------------------------------------------------\n",
    "\n",
    "# set the spacing between subplots\n",
    "plt.subplots_adjust(wspace=0.15, hspace=0.25)\n",
    "\n",
    "# menampilkan plot\n",
    "plt.show()"
   ]
  },
  {
   "cell_type": "markdown",
   "id": "a6261f17-6de8-4878-9dd7-75917060e864",
   "metadata": {},
   "source": [
    "### 4. Praproses Dataset"
   ]
  },
  {
   "cell_type": "markdown",
   "id": "c4195439-41e4-47ee-9536-9f2d719fdc95",
   "metadata": {},
   "source": [
    "- Seleksi Fitur"
   ]
  },
  {
   "cell_type": "code",
   "execution_count": null,
   "id": "85a18bfd-461e-48ed-9241-2be53d6f90eb",
   "metadata": {},
   "outputs": [],
   "source": [
    "# memilih fitur close price\n",
    "dataset = dataset.filter(['Close']);"
   ]
  },
  {
   "cell_type": "code",
   "execution_count": null,
   "id": "67fc9094-6cc4-4967-8b30-88298b23ea57",
   "metadata": {},
   "outputs": [],
   "source": [
    "# convert dataframe to series close price\n",
    "data = dataset.values"
   ]
  },
  {
   "cell_type": "code",
   "execution_count": null,
   "id": "bbd98e9a-674b-4c64-a27b-680e64afd44c",
   "metadata": {},
   "outputs": [],
   "source": [
    "np.round(data[:5],7)"
   ]
  },
  {
   "cell_type": "code",
   "execution_count": null,
   "id": "43b85356-1382-40f5-92d0-ed3c6b6d574e",
   "metadata": {},
   "outputs": [],
   "source": [
    "data.shape"
   ]
  },
  {
   "cell_type": "markdown",
   "id": "849ab05b-b175-43db-a16f-00712e3199de",
   "metadata": {},
   "source": [
    "- Normalisasi Data"
   ]
  },
  {
   "cell_type": "code",
   "execution_count": null,
   "id": "c8960b7b-8dba-45e5-998a-9d27b9f99421",
   "metadata": {},
   "outputs": [],
   "source": [
    "# normalize features\n",
    "scaler = MinMaxScaler(feature_range=(0, 1))\n",
    "scaled_data = scaler.fit_transform(np.array(data).reshape(-1,1))"
   ]
  },
  {
   "cell_type": "code",
   "execution_count": null,
   "id": "ed3038a3-c3af-49d0-8f4d-443e98a7a9d1",
   "metadata": {},
   "outputs": [],
   "source": [
    "np.round(scaled_data[:5],7)"
   ]
  },
  {
   "cell_type": "code",
   "execution_count": null,
   "id": "ddee350f-9581-41dd-b706-e106eece7748",
   "metadata": {},
   "outputs": [],
   "source": [
    "scaled_data.shape"
   ]
  },
  {
   "cell_type": "code",
   "execution_count": null,
   "id": "1dcc65ca-593c-4044-8743-47cfed67d09e",
   "metadata": {},
   "outputs": [],
   "source": [
    "# membuat frame\n",
    "fig, ax = plt.subplots(facecolor=\"#f0f0f0\", figsize=(8,4))\n",
    "\n",
    "# membuat time series plot\n",
    "ax.plot(dataset.index.values, scaled_data, color=\"tab:blue\", label=\"CLose Price\", linewidth=2)\n",
    "\n",
    "# membuat label-label\n",
    "ax.set_title(\"Close Price Bitcoin\", fontsize=10)\n",
    "ax.set_xlabel(\"Date\", fontsize=9)\n",
    "ax.set_ylabel(\"Stock Price\", fontsize=9)\n",
    "ax.legend(loc='upper left')\n",
    "ax.grid(True)\n",
    "\n",
    "# menampilkan plot\n",
    "plt.show()"
   ]
  },
  {
   "cell_type": "markdown",
   "id": "51f158b3-c42e-4ae8-be8c-d3b85e749d87",
   "metadata": {},
   "source": [
    "- Data latih dan Data uji"
   ]
  },
  {
   "cell_type": "code",
   "execution_count": null,
   "id": "f42849d8-d127-4c2e-9ef4-f17833f9f650",
   "metadata": {},
   "outputs": [],
   "source": [
    "# set data train\n",
    "train_size = math.ceil(len(dataset)*0.8)\n",
    "train_data = scaled_data[0:train_size , :]"
   ]
  },
  {
   "cell_type": "code",
   "execution_count": null,
   "id": "6e838a7d-544e-441a-8091-7d3d1af8affe",
   "metadata": {},
   "outputs": [],
   "source": [
    "np.round(train_data[:5],7)"
   ]
  },
  {
   "cell_type": "code",
   "execution_count": null,
   "id": "bfc6862f-cefe-4a70-8922-b55ca7a7dc37",
   "metadata": {},
   "outputs": [],
   "source": [
    "train_data.shape"
   ]
  },
  {
   "cell_type": "code",
   "execution_count": null,
   "id": "8521d586-81fe-436b-beeb-227f38620e55",
   "metadata": {},
   "outputs": [],
   "source": [
    "# set data test\n",
    "test_size = len(dataset) - train_size\n",
    "test_data = scaled_data[train_size:len(dataset) , :]"
   ]
  },
  {
   "cell_type": "code",
   "execution_count": null,
   "id": "e8d8cd8a-7fb5-470c-8fc5-1d83cf1d5216",
   "metadata": {},
   "outputs": [],
   "source": [
    "np.round(test_data[:5],7)"
   ]
  },
  {
   "cell_type": "code",
   "execution_count": null,
   "id": "7a719ae8-35e2-4fd2-8908-264d305bc4ba",
   "metadata": {},
   "outputs": [],
   "source": [
    "test_data.shape"
   ]
  },
  {
   "cell_type": "markdown",
   "id": "97a23c33-d276-47e1-93a0-a3cc01655133",
   "metadata": {},
   "source": [
    "- Supervised Learning"
   ]
  },
  {
   "cell_type": "code",
   "execution_count": null,
   "id": "6849d25a-6e68-4e7b-a9cc-de99cd13ee5c",
   "metadata": {},
   "outputs": [],
   "source": [
    "# convert an array of values into a dataset matrix\n",
    "\n",
    "# function for supervised learning\n",
    "def create_dataset(look_back, dataset):\n",
    "    \n",
    "    # declare variable X and Y\n",
    "    dataX = []\n",
    "    dataY = []\n",
    "    \n",
    "    # for loop for create supervised learning\n",
    "    for i in range(look_back, len(dataset)):\n",
    "        \n",
    "        # insert value X and Y \n",
    "        dataX.append(dataset[i-look_back:i, 0])\n",
    "        dataY.append(dataset[i, 0])\n",
    "        \n",
    "    # return value X and Y\n",
    "    return np.array(dataX), np.array(dataY)"
   ]
  },
  {
   "cell_type": "code",
   "execution_count": null,
   "id": "0c191006-b329-45c8-92ae-26d52bbc848b",
   "metadata": {},
   "outputs": [],
   "source": [
    "# process supervised learning\n",
    "look_back = 60\n",
    "x_train, y_train = create_dataset(look_back, train_data)\n",
    "x_test, y_test = create_dataset(look_back, test_data)"
   ]
  },
  {
   "cell_type": "code",
   "execution_count": null,
   "id": "695fe00f-1bae-4937-bd78-9e583be63dae",
   "metadata": {},
   "outputs": [],
   "source": [
    "print(x_train.shape, y_train.shape)"
   ]
  },
  {
   "cell_type": "code",
   "execution_count": null,
   "id": "5b63e410-8973-46b8-ba41-a4cd6724e6c4",
   "metadata": {},
   "outputs": [],
   "source": [
    "print(x_test.shape, y_test.shape)"
   ]
  },
  {
   "cell_type": "code",
   "execution_count": null,
   "id": "71c546e4-7175-44e4-bf65-414469bc5444",
   "metadata": {},
   "outputs": [],
   "source": [
    "# reshape input to be [samples, time steps, features]\n",
    "x_train = np.reshape(x_train, (x_train.shape[0], x_train.shape[1], 1))\n",
    "x_test = np.reshape(x_test, (x_test.shape[0], x_test.shape[1], 1))"
   ]
  },
  {
   "cell_type": "code",
   "execution_count": null,
   "id": "e376bee3-3867-4e2d-8e87-d91ceec99af2",
   "metadata": {},
   "outputs": [],
   "source": [
    "print(x_train.shape, x_test.shape)"
   ]
  },
  {
   "cell_type": "markdown",
   "id": "131c943e-c636-4779-8c9f-ab06ff2bf1e6",
   "metadata": {},
   "source": [
    "### 5. Hyperparameter GridSearchCV LSTM-RNN"
   ]
  },
  {
   "cell_type": "code",
   "execution_count": null,
   "id": "d3da6be3-8658-4787-9fd9-5d85db3d63c4",
   "metadata": {},
   "outputs": [],
   "source": [
    "from scikeras.wrappers import KerasRegressor\n",
    "from scikeras.wrappers import KerasClassifier\n",
    "from sklearn.model_selection import GridSearchCV"
   ]
  },
  {
   "cell_type": "code",
   "execution_count": null,
   "id": "22d4ad9e-5043-490c-8824-6b468146ec82",
   "metadata": {},
   "outputs": [],
   "source": [
    "parameters = {'neurons' : [10],\n",
    "              'activation' : ['sigmoid', 'tanh', 'relu', 'selu', 'elu', 'softplus'],\n",
    "              'optimizer' : ['adam', 'adamax', 'rmsprop', 'sgd'],\n",
    "              'epochs' : [50],\n",
    "              'batch_size' : [8, 16, 32, 64],\n",
    "              'verbose' : [0]}"
   ]
  },
  {
   "cell_type": "code",
   "execution_count": null,
   "id": "b348c8cb-204a-4340-8208-f6dee4cb9142",
   "metadata": {},
   "outputs": [],
   "source": [
    "def build_classifier(neurons='', activation='', optimizer=''):\n",
    "    # reset session\n",
    "    tf.keras.backend.clear_session()\n",
    "    \n",
    "    # The LSTM architecture\n",
    "    model = Sequential()\n",
    "    \n",
    "    # First LSTM layer with Dropout regularisation\n",
    "    model.add(LSTM(units=neurons, activation=activation, return_sequences=True, input_shape=(x_train.shape[1], 1)))\n",
    "    \n",
    "    # The output layer\n",
    "    model.add(Dense(1))\n",
    "\n",
    "    # model compile\n",
    "    model.compile(loss='mae', optimizer=optimizer)\n",
    "    \n",
    "    # return value\n",
    "    return model"
   ]
  },
  {
   "cell_type": "code",
   "execution_count": null,
   "id": "4b194ee1-d8d7-4945-b474-a62ce507e544",
   "metadata": {},
   "outputs": [],
   "source": [
    "grid_model = KerasRegressor(build_fn=build_classifier, lr=None, optimizer=None)"
   ]
  },
  {
   "cell_type": "code",
   "execution_count": null,
   "id": "2653701f-5d29-4d03-8577-eddb5693b27b",
   "metadata": {},
   "outputs": [],
   "source": [
    "grid_search = GridSearchCV(estimator=grid_model, param_grid=parameters, n_jobs=-1, cv=2, scoring= 'neg_root_mean_squared_error')"
   ]
  },
  {
   "cell_type": "code",
   "execution_count": null,
   "id": "b72bf5a3-3783-4c73-893a-d2da3d4622af",
   "metadata": {},
   "outputs": [],
   "source": [
    "grid_result = grid_search.fit(x_train, y_train)"
   ]
  },
  {
   "cell_type": "code",
   "execution_count": null,
   "id": "960c881e-9fa1-4c62-890b-058cc49a4fd8",
   "metadata": {},
   "outputs": [],
   "source": []
  }
 ],
 "metadata": {
  "kernelspec": {
   "display_name": "Python 3 (ipykernel)",
   "language": "python",
   "name": "python3"
  },
  "language_info": {
   "codemirror_mode": {
    "name": "ipython",
    "version": 3
   },
   "file_extension": ".py",
   "mimetype": "text/x-python",
   "name": "python",
   "nbconvert_exporter": "python",
   "pygments_lexer": "ipython3",
   "version": "3.9.13"
  }
 },
 "nbformat": 4,
 "nbformat_minor": 5
}
